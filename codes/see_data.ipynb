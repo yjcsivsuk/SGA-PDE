{
 "cells": [
  {
   "cell_type": "code",
   "execution_count": 1,
   "metadata": {},
   "outputs": [],
   "source": [
    "import numpy as np\n",
    "import scipy.io as scio"
   ]
  },
  {
   "cell_type": "code",
   "execution_count": 2,
   "metadata": {},
   "outputs": [
    {
     "data": {
      "text/plain": [
       "((256, 201), (256,), (201,))"
      ]
     },
     "execution_count": 2,
     "metadata": {},
     "output_type": "execute_result"
    }
   ],
   "source": [
    "data = scio.loadmat('../data/burgers.mat')\n",
    "u=data.get(\"usol\")\n",
    "x=np.squeeze(data.get(\"x\"))\n",
    "t=np.squeeze(data.get(\"t\").reshape(1,201))\n",
    "u.shape, x.shape, t.shape"
   ]
  },
  {
   "cell_type": "code",
   "execution_count": 3,
   "metadata": {},
   "outputs": [
    {
     "data": {
      "text/plain": [
       "((512, 201), (512,), (201,))"
      ]
     },
     "execution_count": 3,
     "metadata": {},
     "output_type": "execute_result"
    }
   ],
   "source": [
    "data = scio.loadmat('../data/Kdv.mat')\n",
    "u=data.get(\"uu\")\n",
    "x=np.squeeze(data.get(\"x\"))\n",
    "t=np.squeeze(data.get(\"tt\").reshape(1,201))\n",
    "u.shape, x.shape, t.shape"
   ]
  },
  {
   "cell_type": "code",
   "execution_count": 4,
   "metadata": {},
   "outputs": [
    {
     "data": {
      "text/plain": [
       "((301, 200), (301,), (200,))"
      ]
     },
     "execution_count": 4,
     "metadata": {},
     "output_type": "execute_result"
    }
   ],
   "source": [
    "u = np.load(\"../data/chafee_infante_CI.npy\")\n",
    "x = np.load(\"../data/chafee_infante_x.npy\")\n",
    "t = np.load(\"../data/chafee_infante_t.npy\")\n",
    "u.shape, x.shape, t.shape "
   ]
  },
  {
   "cell_type": "code",
   "execution_count": 5,
   "metadata": {},
   "outputs": [
    {
     "data": {
      "text/plain": [
       "(251, 100)"
      ]
     },
     "execution_count": 5,
     "metadata": {},
     "output_type": "execute_result"
    }
   ],
   "source": [
    "u=np.load(\"../data/PDE_divide.npy\")\n",
    "u.shape"
   ]
  },
  {
   "cell_type": "code",
   "execution_count": 6,
   "metadata": {},
   "outputs": [
    {
     "data": {
      "text/plain": [
       "(251, 100)"
      ]
     },
     "execution_count": 6,
     "metadata": {},
     "output_type": "execute_result"
    }
   ],
   "source": [
    "u=np.load(\"../data/PDE_compound.npy\")\n",
    "u.shape"
   ]
  }
 ],
 "metadata": {
  "kernelspec": {
   "display_name": "SGA-PDE",
   "language": "python",
   "name": "python3"
  },
  "language_info": {
   "codemirror_mode": {
    "name": "ipython",
    "version": 3
   },
   "file_extension": ".py",
   "mimetype": "text/x-python",
   "name": "python",
   "nbconvert_exporter": "python",
   "pygments_lexer": "ipython3",
   "version": "3.11.9"
  }
 },
 "nbformat": 4,
 "nbformat_minor": 2
}
