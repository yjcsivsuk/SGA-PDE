{
 "cells": [
  {
   "cell_type": "code",
   "execution_count": 3,
   "metadata": {},
   "outputs": [
    {
     "name": "stdout",
     "output_type": "stream",
     "text": [
      "Warning: 179 points required, but 196 points sampled.\n",
      "Warning: 8000 points required, but 8820 points sampled.\n",
      "Compiling model...\n",
      "'compile' took 0.000135 s\n",
      "\n"
     ]
    }
   ],
   "source": [
    "%matplotlib inline\n",
    "\n",
    "import deepxde as dde\n",
    "import matplotlib.pyplot as plt\n",
    "import numpy as np\n",
    "import torch\n",
    "\n",
    "# 设置时空计算域\n",
    "Lx0 = 2\n",
    "Lx1 = 2\n",
    "Lt = 1\n",
    "# 设置方程参数\n",
    "a = 0.001\n",
    "# 设置初始条件参数\n",
    "Tinit = 0\n",
    "# 设置Dirichlet边界条件参数\n",
    "Tbc_l = 0   # 左侧边界\n",
    "Tbc_r = 0   # 右侧边界\n",
    "# 设置Neumann边界条件参数\n",
    "dTbc_b = 0  # 下侧边界\n",
    "dTbc_t = 0  # 上侧边界\n",
    "\n",
    "geom = dde.geometry.Rectangle([-Lx0/2, -Lx1/2], [Lx0/2, Lx1/2])\n",
    "timedomain = dde.geometry.TimeDomain(0, Lt)\n",
    "geomtime = dde.geometry.GeometryXTime(geom, timedomain)\n",
    "\n",
    "def pde(x, y):\n",
    "    dy_t = dde.grad.jacobian(y, x, i=0, j=2)\n",
    "    dy_xx = dde.grad.hessian(y, x, i=0, j=0)\n",
    "    dy_yy = dde.grad.hessian(y, x, i=1, j=1)\n",
    "    return dy_t - a * (dy_xx + dy_yy) - y**3 + y\n",
    "\n",
    "def boundary_l(x, on_boundary):\n",
    "    return on_boundary and np.isclose(x[0], -1)\n",
    "\n",
    "def boundary_r(x, on_boundary):\n",
    "    return on_boundary and np.isclose(x[0], 1)\n",
    "\n",
    "def boundary_b(x, on_boundary):\n",
    "    return on_boundary and np.isclose(x[1], -1)\n",
    "\n",
    "def boundary_t(x, on_boundary):\n",
    "    return on_boundary and np.isclose(x[1], 1)\n",
    "\n",
    "bc_l = dde.icbc.DirichletBC(geomtime, lambda x:Tbc_l, boundary_l)\n",
    "bc_r = dde.icbc.DirichletBC(geomtime, lambda x:Tbc_r, boundary_r)\n",
    "bc_b = dde.icbc.NeumannBC(geomtime, lambda x:dTbc_b, boundary_b)\n",
    "bc_t = dde.icbc.NeumannBC(geomtime, lambda x:dTbc_t, boundary_t)\n",
    "\n",
    "def ic_func(x):\n",
    "    # return np.sin( np.pi * (x[0]/Lx0 + x[1]/Lx1) )\n",
    "    return Tinit\n",
    "    \n",
    "ic = dde.icbc.IC(\n",
    "    geomtime,\n",
    "    ic_func,\n",
    "    lambda _, on_initial: on_initial,\n",
    ")\n",
    "\n",
    "data = dde.data.TimePDE(\n",
    "    geomtime,\n",
    "    pde,\n",
    "    [bc_l, bc_r, bc_b, bc_t, ic],\n",
    "    num_domain=8000,   # 12000\n",
    "    num_boundary=320,   # 320\n",
    "    num_initial=800,    # 800\n",
    "    num_test=8000,     # 12000\n",
    ")\n",
    "\n",
    "layer_size = [3] + [50] * 4 + [1]\n",
    "activation = \"tanh\"\n",
    "initializer = \"Glorot uniform\"\n",
    "net = dde.nn.FNN(layer_size, activation, initializer)\n",
    "# net = dde.nn.FNN([3] + [50] * 4 + [1], \"tanh\", \"Glorot uniform\")\n",
    "model = dde.Model(data, net)\n",
    "model.compile(\"adam\", lr=1e-3)"
   ]
  },
  {
   "cell_type": "code",
   "execution_count": 4,
   "metadata": {},
   "outputs": [
    {
     "name": "stdout",
     "output_type": "stream",
     "text": [
      "Training model...\n",
      "\n",
      "Warning: Rectangle boundary_normal called on vertices. You may use PDE(..., exclusions=...) to exclude the vertices.\n",
      "0         [1.64e-02, 5.57e-02, 5.47e-02, 8.69e-03, 5.04e-03, 2.02e-02]    [1.40e-02, 5.57e-02, 5.47e-02, 8.69e-03, 5.04e-03, 2.02e-02]    []  \n",
      "100       [1.71e-05, 5.96e-06, 3.31e-06, 1.60e-05, 8.77e-06, 4.59e-06]    [1.66e-05, 5.96e-06, 3.31e-06, 1.60e-05, 8.77e-06, 4.59e-06]    []  \n",
      "200       [6.92e-06, 1.96e-06, 1.74e-06, 7.72e-06, 3.89e-06, 1.16e-06]    [6.78e-06, 1.96e-06, 1.74e-06, 7.72e-06, 3.89e-06, 1.16e-06]    []  \n",
      "300       [3.96e-06, 1.42e-06, 1.06e-06, 5.13e-06, 3.12e-06, 4.63e-07]    [3.65e-06, 1.42e-06, 1.06e-06, 5.13e-06, 3.12e-06, 4.63e-07]    []  \n",
      "400       [2.72e-06, 9.06e-07, 7.71e-07, 3.83e-06, 2.45e-06, 2.35e-07]    [2.44e-06, 9.06e-07, 7.71e-07, 3.83e-06, 2.45e-06, 2.35e-07]    []  \n",
      "500       [2.05e-06, 5.60e-07, 6.13e-07, 2.94e-06, 1.89e-06, 1.75e-07]    [1.81e-06, 5.60e-07, 6.13e-07, 2.94e-06, 1.89e-06, 1.75e-07]    []  \n",
      "600       [1.67e-06, 3.62e-07, 5.17e-07, 2.29e-06, 1.46e-06, 1.83e-07]    [1.47e-06, 3.62e-07, 5.17e-07, 2.29e-06, 1.46e-06, 1.83e-07]    []  \n",
      "700       [1.45e-06, 2.55e-07, 4.52e-07, 1.82e-06, 1.15e-06, 2.08e-07]    [1.28e-06, 2.55e-07, 4.52e-07, 1.82e-06, 1.15e-06, 2.08e-07]    []  \n",
      "800       [1.31e-06, 1.97e-07, 4.02e-07, 1.48e-06, 9.28e-07, 2.26e-07]    [1.16e-06, 1.97e-07, 4.02e-07, 1.48e-06, 9.28e-07, 2.26e-07]    []  \n",
      "900       [1.97e-05, 1.20e-05, 2.93e-06, 3.10e-06, 4.16e-06, 3.38e-06]    [1.95e-05, 1.20e-05, 2.93e-06, 3.10e-06, 4.16e-06, 3.38e-06]    []  \n",
      "1000      [1.07e-06, 1.43e-07, 3.12e-07, 1.03e-06, 6.53e-07, 1.92e-07]    [9.63e-07, 1.43e-07, 3.12e-07, 1.03e-06, 6.53e-07, 1.92e-07]    []  \n",
      "1100      [1.00e-06, 1.27e-07, 2.83e-07, 8.85e-07, 5.72e-07, 1.92e-07]    [9.08e-07, 1.27e-07, 2.83e-07, 8.85e-07, 5.72e-07, 1.92e-07]    []  \n",
      "1200      [7.16e-05, 2.94e-05, 1.27e-05, 8.57e-07, 2.90e-06, 3.49e-06]    [7.60e-05, 2.94e-05, 1.27e-05, 8.57e-07, 2.90e-06, 3.49e-06]    []  \n",
      "1300      [8.05e-07, 1.05e-07, 2.21e-07, 6.79e-07, 4.67e-07, 1.22e-07]    [7.35e-07, 1.05e-07, 2.21e-07, 6.79e-07, 4.67e-07, 1.22e-07]    []  \n",
      "1400      [7.61e-07, 9.39e-08, 1.94e-07, 5.88e-07, 4.24e-07, 1.25e-07]    [6.95e-07, 9.39e-08, 1.94e-07, 5.88e-07, 4.24e-07, 1.25e-07]    []  \n",
      "1500      [1.02e-05, 3.62e-06, 8.58e-06, 5.67e-06, 4.57e-06, 4.53e-06]    [1.01e-05, 3.62e-06, 8.58e-06, 5.67e-06, 4.57e-06, 4.53e-06]    []  \n",
      "1600      [6.64e-07, 8.11e-08, 1.55e-07, 5.04e-07, 3.72e-07, 1.12e-07]    [6.03e-07, 8.11e-08, 1.55e-07, 5.04e-07, 3.72e-07, 1.12e-07]    []  \n",
      "1700      [6.34e-07, 7.27e-08, 1.43e-07, 4.47e-07, 3.46e-07, 1.07e-07]    [5.79e-07, 7.27e-08, 1.43e-07, 4.47e-07, 3.46e-07, 1.07e-07]    []  \n",
      "1800      [6.06e-07, 6.70e-08, 1.33e-07, 4.02e-07, 3.24e-07, 1.03e-07]    [5.57e-07, 6.70e-08, 1.33e-07, 4.02e-07, 3.24e-07, 1.03e-07]    []  \n",
      "1900      [5.60e-07, 3.91e-08, 1.85e-07, 3.91e-07, 3.29e-07, 7.15e-08]    [5.12e-07, 3.91e-08, 1.85e-07, 3.91e-07, 3.29e-07, 7.15e-08]    []  \n",
      "2000      [4.68e-07, 6.14e-08, 9.44e-08, 3.11e-07, 2.83e-07, 5.72e-08]    [4.28e-07, 6.14e-08, 9.44e-08, 3.11e-07, 2.83e-07, 5.72e-08]    []  \n",
      "2100      [4.50e-07, 5.40e-08, 8.82e-08, 2.76e-07, 2.65e-07, 5.68e-08]    [4.14e-07, 5.40e-08, 8.82e-08, 2.76e-07, 2.65e-07, 5.68e-08]    []  \n",
      "2200      [9.76e-07, 1.60e-07, 8.05e-07, 1.11e-06, 6.97e-07, 4.30e-07]    [8.04e-07, 1.60e-07, 8.05e-07, 1.11e-06, 6.97e-07, 4.30e-07]    []  \n",
      "2300      [3.97e-07, 5.34e-08, 7.42e-08, 2.69e-07, 2.44e-07, 5.61e-08]    [3.58e-07, 5.34e-08, 7.42e-08, 2.69e-07, 2.44e-07, 5.61e-08]    []  \n",
      "2400      [3.82e-07, 4.56e-08, 6.95e-08, 2.38e-07, 2.32e-07, 5.12e-08]    [3.47e-07, 4.56e-08, 6.95e-08, 2.38e-07, 2.32e-07, 5.12e-08]    []  \n",
      "2500      [3.68e-07, 4.16e-08, 6.48e-08, 2.14e-07, 2.20e-07, 4.80e-08]    [3.36e-07, 4.16e-08, 6.48e-08, 2.14e-07, 2.20e-07, 4.80e-08]    []  \n",
      "2600      [3.54e-07, 7.68e-08, 6.03e-08, 2.15e-07, 2.16e-07, 5.69e-08]    [3.32e-07, 7.68e-08, 6.03e-08, 2.15e-07, 2.16e-07, 5.69e-08]    []  \n",
      "2700      [3.39e-07, 2.01e-08, 9.47e-08, 2.59e-07, 2.33e-07, 9.11e-08]    [2.86e-07, 2.01e-08, 9.47e-08, 2.59e-07, 2.33e-07, 9.11e-08]    []  \n",
      "2800      [3.07e-07, 3.99e-08, 5.11e-08, 2.04e-07, 1.95e-07, 4.40e-08]    [2.73e-07, 3.99e-08, 5.11e-08, 2.04e-07, 1.95e-07, 4.40e-08]    []  \n",
      "2900      [3.99e-05, 1.57e-05, 6.05e-06, 1.82e-07, 7.26e-07, 2.41e-06]    [4.17e-05, 1.57e-05, 6.05e-06, 1.82e-07, 7.26e-07, 2.41e-06]    []  \n",
      "3000      [2.46e-07, 3.46e-08, 3.65e-08, 1.50e-07, 1.69e-07, 2.31e-08]    [2.21e-07, 3.46e-08, 3.65e-08, 1.50e-07, 1.69e-07, 2.31e-08]    []  \n",
      "\n",
      "Best model at step 3000:\n",
      "  train loss: 6.59e-07\n",
      "  test loss: 6.34e-07\n",
      "  test metric: []\n",
      "\n",
      "'train' took 613.986722 s\n",
      "\n"
     ]
    },
    {
     "data": {
      "image/png": "[encoded data removed]",
      "text/plain": [
       "<Figure size 640x480 with 1 Axes>"
      ]
     },
     "metadata": {},
     "output_type": "display_data"
    },
    {
     "data": {
      "text/plain": [
       "'deepxde_model-3000.pt'"
      ]
     },
     "execution_count": 4,
     "metadata": {},
     "output_type": "execute_result"
    }
   ],
   "source": [
    "losshistory, train_state = model.train(iterations=3000, display_every=100)\n",
    "\n",
    "# Plot/print the results\n",
    "dde.saveplot(losshistory, train_state, issave=False, isplot=True)\n",
    "\n",
    "# save the model\n",
    "model.save('deepxde_model')"
   ]
  },
  {
   "cell_type": "code",
   "execution_count": 5,
   "metadata": {},
   "outputs": [
    {
     "name": "stdout",
     "output_type": "stream",
     "text": [
      "(10000, 3) (10000, 1)\n",
      "(10000, 4, 21) (10000, 4)\n"
     ]
    }
   ],
   "source": [
    "model.restore('deepxde_model-3000.pt', device=\"cpu\")\n",
    "\n",
    "# 所需输入: Lx0, Lx1, model\n",
    "x1 = np.linspace(start=-Lx0/2, stop=Lx0/2, num=100, endpoint=True).flatten() #(100,)\n",
    "x2 = np.linspace(start=-Lx1/2, stop=Lx1/2, num=100, endpoint=True).flatten() #(100,)\n",
    "XX1, XX2 = np.meshgrid(x1, x2)\n",
    "x_1 = XX1.flatten()\n",
    "x_2 = XX2.flatten()\n",
    "\n",
    "# Lt = 1\n",
    "Nt = int(20 * Lt)\n",
    "\n",
    "dt = Lt / Nt\n",
    "for n in range(0, Nt+1):\n",
    "    t = n * dt\n",
    "    t_list = t*np.ones((len(x_1), 1))\n",
    "    x_pred = np.concatenate([x_1[:, None], x_2[:, None], t_list], axis=1)\n",
    "    y_pred = model.predict(x_pred)\n",
    "    y_p = y_pred.flatten()\n",
    "    data_n = np.concatenate([x_pred, y_pred], axis=1)\n",
    "    if n == 0:\n",
    "        data = data_n[:, :, None]\n",
    "    else:\n",
    "        data = np.concatenate([data, data_n[:, :, None]], axis=2)\n",
    "\n",
    "print(x_pred.shape, y_pred.shape)\n",
    "print(data.shape, data_n.shape)"
   ]
  },
  {
   "cell_type": "code",
   "execution_count": 6,
   "metadata": {},
   "outputs": [
    {
     "name": "stdout",
     "output_type": "stream",
     "text": [
      "保存路径: 2Dallencahn\n",
      "y_min =  -0.0005703759961761534 , y_max =  0.0008187245111912489\n",
      "data.shape[2] =  21\n",
      "(10000,) (10000,) (10000,)\n",
      "0 (10000,) (10000,) (10000,)\n",
      "1 (10000,) (10000,) (10000,)\n",
      "2 (10000,) (10000,) (10000,)\n",
      "3 (10000,) (10000,) (10000,)\n",
      "4 (10000,) (10000,) (10000,)\n",
      "5 (10000,) (10000,) (10000,)\n",
      "6 (10000,) (10000,) (10000,)\n",
      "7 (10000,) (10000,) (10000,)\n",
      "8 (10000,) (10000,) (10000,)\n",
      "9 (10000,) (10000,) (10000,)\n",
      "10 (10000,) (10000,) (10000,)\n",
      "11 (10000,) (10000,) (10000,)\n",
      "12 (10000,) (10000,) (10000,)\n",
      "13 (10000,) (10000,) (10000,)\n",
      "14 (10000,) (10000,) (10000,)\n",
      "15 (10000,) (10000,) (10000,)\n",
      "16 (10000,) (10000,) (10000,)\n",
      "17 (10000,) (10000,) (10000,)\n",
      "18 (10000,) (10000,) (10000,)\n",
      "19 (10000,) (10000,) (10000,)\n",
      "20 (10000,) (10000,) (10000,)\n",
      "(10000,) (10000,) (10000,)\n"
     ]
    },
    {
     "data": {
      "image/png": "[encoded data removed]",
      "text/plain": [
       "<Figure size 1500x1500 with 2 Axes>"
      ]
     },
     "metadata": {},
     "output_type": "display_data"
    }
   ],
   "source": [
    "# 所需输入: data, dt, Nt\n",
    "from matplotlib.animation import FuncAnimation\n",
    "import os\n",
    "work_path = os.path.join('2Dallencahn',)\n",
    "isCreated = os.path.exists(work_path)\n",
    "if not isCreated:\n",
    "    os.makedirs(work_path)\n",
    "print(\"保存路径: \" + work_path)\n",
    "\n",
    "# 获得y的最大值和最小值\n",
    "y_min = data.min(axis=(0,2,))[3]\n",
    "y_max = data.max(axis=(0,2,))[3]\n",
    "print(\"y_min = \", y_min, \", y_max = \", y_max)\n",
    "\n",
    "# 设置colorbar显示的级别\n",
    "levels = np.arange(y_min, y_max+(y_max-y_min)/30, (y_max-y_min)/30)\n",
    "\n",
    "fig = plt.figure(100, figsize=(15, 15))\n",
    "\n",
    "def init():\n",
    "    plt.clf()\n",
    "    x1_t, x2_t = data[:, 0:1, 0], data[:, 1:2, 0]\n",
    "    y_p_t = 0 * np.ones((len(x1_t), 1))\n",
    "    x1_t, x2_t, y_p_t = x1_t.flatten(), x2_t.flatten(), y_p_t.flatten()\n",
    "    print(x1_t.shape, x1_t.shape, y_p_t.shape)\n",
    "\n",
    "    plt.subplot(1,1,1)\n",
    "    plt.tricontourf(x1_t, x2_t, y_p_t, levels=30, cmap=\"rainbow\")\n",
    "    plt.clim(vmin=y_min, vmax=y_max)\n",
    "    cb0 = plt.colorbar()\n",
    "    plt.title(\"Temperature field with BCs/IC.\", fontsize = 9.5)\n",
    "    plt.savefig(work_path + '//' + 'animation_BCsIC' + '.jpg')\n",
    "\n",
    "def anim_update(t_id):\n",
    "    plt.clf()\n",
    "    x1_t, x2_t, y_p_t = data[:, 0:1, t_id], data[:, 1:2, t_id], data[:, 3:4, t_id]\n",
    "    x1_t, x2_t, y_p_t = x1_t.flatten(), x2_t.flatten(), y_p_t.flatten()\n",
    "    print(t_id, x1_t.shape, x1_t.shape, y_p_t.shape)\n",
    "    \n",
    "    plt.subplot(1,1,1)\n",
    "    plt.tricontourf(x1_t, x2_t, y_p_t, levels=30, cmap=\"rainbow\")\n",
    "    plt.clim(vmin=y_min, vmax=y_max)\n",
    "    cb0 = plt.colorbar()\n",
    "    # plt.rcParams['font.family'] = 'Times New Roman'\n",
    "    # plt.rcParams['font.size'] = 9.5\n",
    "    plt.xlabel('$x (m)$')\n",
    "    plt.ylabel('$y (m)$')\n",
    "    plt.title(\"Temperature field at t = \" + str(t_id * dt) + \" s.\", fontsize = 9.5)\n",
    "    plt.savefig(work_path + '//' + 'animation_' + str(t_id) + '.jpg')\n",
    "\n",
    "print(\"data.shape[2] = \", data.shape[2])\n",
    "\n",
    "# anim_update(10)\n",
    "# init()\n",
    "anim =FuncAnimation(fig, anim_update, frames=np.arange(0, data.shape[2]).astype(np.int64), interval=200, init_func=init)\n",
    "# anim =FuncAnimation(fig, anim_update, frames=np.arange(0, data.shape[2]).astype(np.int64), interval=200)\n",
    "anim.save(work_path + \"//\" + \"animation-\" + str(Nt+1) + \".gif\", writer=\"pillow\", dpi=300)"
   ]
  },
  {
   "cell_type": "code",
   "execution_count": 13,
   "metadata": {},
   "outputs": [],
   "source": [
    "y_p_t = data[:, 3:4, ]\n",
    "u = y_p_t[:, 0, :]\n",
    "np.save('../../data/allencahn_xyt', u.reshape((100, 100, -1)))\n",
    "np.save('../../data/allencahn_x', x1)\n",
    "np.save('../../data/allencahn_y', x2)\n",
    "np.save('../../data/allencahn_t', data[:, 2:3, ][0, 0, :])"
   ]
  },
  {
   "cell_type": "code",
   "execution_count": 14,
   "metadata": {},
   "outputs": [],
   "source": [
    "def load_ref_data(ref_data, timepde=None):  # if pde is a timepde, then provide timepde=(t_start, t_end)\n",
    "    \n",
    "    d = (3, 1)  # Hardcoding the value of d\n",
    "\n",
    "    if timepde is not None:  # transform ref_data\n",
    "        time_starts, time_ends = timepde\n",
    "        data = ref_data\n",
    "        num_tsample = (data.shape[1] - (d[0] - 1)) // d[1]\n",
    "        assert num_tsample * d[1] == data.shape[1] - (d[0] - 1)\n",
    "        t = np.linspace(time_starts, time_ends, num_tsample)\n",
    "        t, x0 = np.meshgrid(t, data[:, 0])  # add the first input dimension that is not time\n",
    "        list_x = [x0.reshape(-1)]  # x0.reshape(-1) gives [e1,e1,...,e1, e2,e2,...,e2, ...] each element repeats num_tsample times (adjacent)\n",
    "        for i in range(1, d[0] - 1):  # add other input dimensions that is not time\n",
    "            list_x.append(np.stack([data[:, i] for _ in range(num_tsample)]).T.reshape(-1))  # each element repeats num_tsample times (adjacent)\n",
    "        list_x.append(t.reshape(-1))  # t is the last input dimension. (Other) input dimension order should be in accordance with .dat file\n",
    "        for i in range(d[1]):\n",
    "            list_x.append(data[:, d[0] - 1 + i::d[1]].reshape(-1))\n",
    "        ref_data = np.stack(list_x).T\n",
    "\n",
    "    ref_x = ref_data[:, :d[0]]\n",
    "    ref_y = ref_data[:, d[0]:]\n",
    "\n",
    "    return ref_x, ref_y"
   ]
  },
  {
   "cell_type": "code",
   "execution_count": 15,
   "metadata": {},
   "outputs": [],
   "source": [
    "coordinate = np.concatenate((x_1[:, None], x_2[:, None]), axis=-1)\n",
    "ref_data = np.concatenate((coordinate, u), axis=-1)\n",
    "out_x, out_y = load_ref_data(ref_data=ref_data, timepde=(0,1))\n",
    "np.save('../../data/allencahn_in', out_x)\n",
    "np.save('../../data/allencahn_out', out_y)"
   ]
  },
  {
   "cell_type": "code",
   "execution_count": 16,
   "metadata": {},
   "outputs": [
    {
     "data": {
      "text/plain": [
       "(tensor([[-1.3661e-03],\n",
       "         [-1.2795e-03],\n",
       "         [-1.1815e-03],\n",
       "         ...,\n",
       "         [-1.9734e-04],\n",
       "         [-9.4312e-05],\n",
       "         [ 1.2826e-05]], dtype=torch.float64, grad_fn=<SliceBackward0>),\n",
       " tensor([[ 0.0014],\n",
       "         [ 0.0015],\n",
       "         [ 0.0015],\n",
       "         ...,\n",
       "         [-0.0016],\n",
       "         [-0.0018],\n",
       "         [-0.0020]], dtype=torch.float64, grad_fn=<SliceBackward0>),\n",
       " tensor([[0.0002],\n",
       "         [0.0002],\n",
       "         [0.0003],\n",
       "         ...,\n",
       "         [0.0001],\n",
       "         [0.0002],\n",
       "         [0.0003]], dtype=torch.float64, grad_fn=<SliceBackward0>),\n",
       " tensor([[-2.8432e-03],\n",
       "         [-2.8607e-03],\n",
       "         [-2.8690e-03],\n",
       "         ...,\n",
       "         [ 2.5359e-04],\n",
       "         [ 2.3297e-05],\n",
       "         [-2.1570e-04]], dtype=torch.float64, grad_fn=<SliceBackward0>),\n",
       " tensor([[-0.0030],\n",
       "         [-0.0029],\n",
       "         [-0.0027],\n",
       "         ...,\n",
       "         [ 0.0037],\n",
       "         [ 0.0039],\n",
       "         [ 0.0040]], dtype=torch.float64, grad_fn=<SliceBackward0>),\n",
       " torch.Size([210000, 1]))"
      ]
     },
     "execution_count": 16,
     "metadata": {},
     "output_type": "execute_result"
    }
   ],
   "source": [
    "net_input = np.load('../../data/allencahn_in.npy')  # (210000,3)\n",
    "net_input_grad = torch.from_numpy(net_input).requires_grad_()\n",
    "net_output_grad = model.net(net_input_grad.float())\n",
    "\n",
    "def cal_grad(x, y):\n",
    "    ut = dde.grad.jacobian(y, x, i=0, j=2)\n",
    "    ux = dde.grad.jacobian(y, x, i=0, j=0)\n",
    "    uy = dde.grad.jacobian(y, x, i=0, j=1)\n",
    "    uxx = dde.grad.hessian(y, x, i=0, j=0)\n",
    "    uyy = dde.grad.hessian(y, x, i=1, j=1)\n",
    "    return ut, ux, uy, uxx, uyy\n",
    "\n",
    "ut, ux, uy, uxx, uyy = cal_grad(net_input_grad, net_output_grad)\n",
    "ut, ux, uy, uxx, uyy, ut.shape"
   ]
  },
  {
   "cell_type": "code",
   "execution_count": 17,
   "metadata": {},
   "outputs": [],
   "source": [
    "np.save('../../data/allencahn_ut', ut.detach().numpy())  # (210000,1)\n",
    "np.save('../../data/allencahn_ux', ux.detach().numpy())  # (210000,1)\n",
    "np.save('../../data/allencahn_uy', uy.detach().numpy())  # (210000,1)\n",
    "np.save('../../data/allencahn_uxx', uxx.detach().numpy())  # (210000,1)\n",
    "np.save('../../data/allencahn_uyy', uyy.detach().numpy())  # (210000,1)"
   ]
  },
  {
   "cell_type": "code",
   "execution_count": 18,
   "metadata": {},
   "outputs": [
    {
     "name": "stdout",
     "output_type": "stream",
     "text": [
      "allencahn_xyt (100, 100, 21)\n",
      "allencahn_x (100,)\n",
      "allencahn_y (100,)\n",
      "allencahn_t (21,)\n",
      "allencahn_in (210000, 3)\n",
      "allencahn_out (210000, 1)\n",
      "allencahn_ut (210000, 1)\n",
      "allencahn_ux (210000, 1)\n",
      "allencahn_uy (210000, 1)\n",
      "allencahn_uxx (210000, 1)\n",
      "allencahn_uyy (210000, 1)\n"
     ]
    }
   ],
   "source": [
    "data_npy = ['allencahn_xyt', 'allencahn_x', 'allencahn_y', 'allencahn_t', 'allencahn_in', 'allencahn_out', 'allencahn_ut', 'allencahn_ux', 'allencahn_uy', 'allencahn_uxx', 'allencahn_uyy']\n",
    "for npy in data_npy:\n",
    "    print(npy, np.load('../../data/' + npy + '.npy').shape)"
   ]
  }
 ],
 "metadata": {
  "kernelspec": {
   "display_name": "SRNet",
   "language": "python",
   "name": "python3"
  },
  "language_info": {
   "codemirror_mode": {
    "name": "ipython",
    "version": 3
   },
   "file_extension": ".py",
   "mimetype": "text/x-python",
   "name": "python",
   "nbconvert_exporter": "python",
   "pygments_lexer": "ipython3",
   "version": "3.11.9"
  }
 },
 "nbformat": 4,
 "nbformat_minor": 2
}
