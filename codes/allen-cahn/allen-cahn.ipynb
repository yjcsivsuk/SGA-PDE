{
 "cells": [
  {
   "cell_type": "code",
   "execution_count": 8,
   "metadata": {},
   "outputs": [
    {
     "name": "stdout",
     "output_type": "stream",
     "text": [
      "Warning: 179 points required, but 196 points sampled.\n",
      "Warning: 8000 points required, but 8820 points sampled.\n",
      "Compiling model...\n",
      "'compile' took 0.000175 s\n",
      "\n"
     ]
    }
   ],
   "source": [
    "%matplotlib inline\n",
    "\n",
    "import deepxde as dde\n",
    "import matplotlib.pyplot as plt\n",
    "import numpy as np\n",
    "import torch\n",
    "\n",
    "# 设置时空计算域\n",
    "Lx0 = 2\n",
    "Lx1 = 2\n",
    "Lt = 1\n",
    "# 设置方程参数\n",
    "a = 0.001\n",
    "# 设置初始条件参数\n",
    "Tinit = 0\n",
    "# 设置Dirichlet边界条件参数\n",
    "Tbc_l = 0   # 左侧边界\n",
    "Tbc_r = 0   # 右侧边界\n",
    "# 设置Neumann边界条件参数\n",
    "dTbc_b = 0  # 下侧边界\n",
    "dTbc_t = 0  # 上侧边界\n",
    "\n",
    "geom = dde.geometry.Rectangle([-Lx0/2, -Lx1/2], [Lx0/2, Lx1/2])\n",
    "timedomain = dde.geometry.TimeDomain(0, Lt)\n",
    "geomtime = dde.geometry.GeometryXTime(geom, timedomain)\n",
    "\n",
    "def pde(x, y):\n",
    "    dy_t = dde.grad.jacobian(y, x, i=0, j=2)\n",
    "    dy_xx = dde.grad.hessian(y, x, i=0, j=0)\n",
    "    dy_yy = dde.grad.hessian(y, x, i=1, j=1)\n",
    "    return dy_t - a * (dy_xx + dy_yy) - y**3 - y\n",
    "\n",
    "def boundary_l(x, on_boundary):\n",
    "    return on_boundary and np.isclose(x[0], -1)\n",
    "\n",
    "def boundary_r(x, on_boundary):\n",
    "    return on_boundary and np.isclose(x[0], 1)\n",
    "\n",
    "def boundary_b(x, on_boundary):\n",
    "    return on_boundary and np.isclose(x[1], -1)\n",
    "\n",
    "def boundary_t(x, on_boundary):\n",
    "    return on_boundary and np.isclose(x[1], 1)\n",
    "\n",
    "bc_l = dde.icbc.DirichletBC(geomtime, lambda x:Tbc_l, boundary_l)\n",
    "bc_r = dde.icbc.DirichletBC(geomtime, lambda x:Tbc_r, boundary_r)\n",
    "bc_b = dde.icbc.NeumannBC(geomtime, lambda x:dTbc_b, boundary_b)\n",
    "bc_t = dde.icbc.NeumannBC(geomtime, lambda x:dTbc_t, boundary_t)\n",
    "\n",
    "def ic_func(x):\n",
    "    # return np.sin( np.pi * (x[0]/Lx0 + x[1]/Lx1) )\n",
    "    return Tinit\n",
    "    \n",
    "ic = dde.icbc.IC(\n",
    "    geomtime,\n",
    "    ic_func,\n",
    "    lambda _, on_initial: on_initial,\n",
    ")\n",
    "\n",
    "data = dde.data.TimePDE(\n",
    "    geomtime,\n",
    "    pde,\n",
    "    [bc_l, bc_r, bc_b, bc_t, ic],\n",
    "    num_domain=8000,   # 12000\n",
    "    num_boundary=320,   # 320\n",
    "    num_initial=800,    # 800\n",
    "    num_test=8000,     # 12000\n",
    ")\n",
    "\n",
    "layer_size = [3] + [50] * 4 + [1]\n",
    "activation = \"tanh\"\n",
    "initializer = \"Glorot uniform\"\n",
    "net = dde.nn.FNN(layer_size, activation, initializer)\n",
    "# net = dde.nn.FNN([3] + [50] * 4 + [1], \"tanh\", \"Glorot uniform\")\n",
    "model = dde.Model(data, net)\n",
    "model.compile(\"adam\", lr=1e-3)"
   ]
  },
  {
   "cell_type": "code",
   "execution_count": 2,
   "metadata": {},
   "outputs": [
    {
     "name": "stdout",
     "output_type": "stream",
     "text": [
      "Training model...\n",
      "\n",
      "Warning: Rectangle boundary_normal called on vertices. You may use PDE(..., exclusions=...) to exclude the vertices.\n",
      "Step      Train loss                                                      Test loss                                                       Test metric\n",
      "0         [2.98e-03, 1.09e+00, 1.22e-02, 1.25e+00, 7.79e-01, 6.43e-03]    [2.57e-03, 1.09e+00, 1.22e-02, 1.25e+00, 7.79e-01, 6.43e-03]    []  \n"
     ]
    },
    {
     "name": "stderr",
     "output_type": "stream",
     "text": [
      "/home/lihaoyang/anaconda3/envs/SRNet/lib/python3.9/site-packages/torch/autograd/graph.py:744: UserWarning: Attempting to run cuBLAS, but there was no current CUDA context! Attempting to set the primary context... (Triggered internally at /home/conda/feedstock_root/build_artifacts/libtorch_1716578970623/work/aten/src/ATen/cuda/CublasHandlePool.cpp:135.)\n",
      "  return Variable._execution_engine.run_backward(  # Calls into the C++ engine to run the backward pass\n"
     ]
    },
    {
     "name": "stdout",
     "output_type": "stream",
     "text": [
      "100       [3.30e-02, 6.47e-02, 3.63e-02, 9.57e-03, 1.49e-02, 1.06e-01]    [1.82e-02, 6.47e-02, 3.63e-02, 9.57e-03, 1.49e-02, 1.06e-01]    []  \n",
      "200       [1.65e-02, 6.37e-02, 2.28e-02, 5.85e-03, 1.14e-02, 5.38e-02]    [1.24e-02, 6.37e-02, 2.28e-02, 5.85e-03, 1.14e-02, 5.38e-02]    []  \n",
      "300       [9.46e-03, 5.03e-02, 1.82e-02, 5.20e-03, 8.44e-03, 5.03e-02]    [6.76e-03, 5.03e-02, 1.82e-02, 5.20e-03, 8.44e-03, 5.03e-02]    []  \n",
      "400       [5.15e-03, 4.64e-02, 1.65e-02, 4.59e-03, 7.54e-03, 4.79e-02]    [3.84e-03, 4.64e-02, 1.65e-02, 4.59e-03, 7.54e-03, 4.79e-02]    []  \n",
      "500       [4.57e-03, 4.39e-02, 1.50e-02, 4.88e-03, 6.85e-03, 4.31e-02]    [3.28e-03, 4.39e-02, 1.50e-02, 4.88e-03, 6.85e-03, 4.31e-02]    []  \n",
      "600       [6.29e-03, 3.92e-02, 1.39e-02, 4.64e-03, 6.97e-03, 3.92e-02]    [3.95e-03, 3.92e-02, 1.39e-02, 4.64e-03, 6.97e-03, 3.92e-02]    []  \n",
      "700       [6.95e-03, 3.43e-02, 1.39e-02, 4.05e-03, 7.36e-03, 3.72e-02]    [3.90e-03, 3.43e-02, 1.39e-02, 4.05e-03, 7.36e-03, 3.72e-02]    []  \n",
      "800       [7.19e-03, 3.17e-02, 1.37e-02, 3.54e-03, 7.66e-03, 3.39e-02]    [3.65e-03, 3.17e-02, 1.37e-02, 3.54e-03, 7.66e-03, 3.39e-02]    []  \n",
      "900       [6.97e-03, 2.85e-02, 1.32e-02, 3.47e-03, 7.40e-03, 3.11e-02]    [3.31e-03, 2.85e-02, 1.32e-02, 3.47e-03, 7.40e-03, 3.11e-02]    []  \n",
      "1000      [6.51e-03, 2.49e-02, 1.27e-02, 3.04e-03, 7.43e-03, 2.89e-02]    [3.06e-03, 2.49e-02, 1.27e-02, 3.04e-03, 7.43e-03, 2.89e-02]    []  \n",
      "1100      [6.62e-03, 2.50e-02, 1.22e-02, 2.51e-03, 7.02e-03, 2.34e-02]    [3.25e-03, 2.50e-02, 1.22e-02, 2.51e-03, 7.02e-03, 2.34e-02]    []  \n",
      "1200      [7.27e-03, 1.96e-02, 1.57e-02, 2.63e-03, 6.58e-03, 2.43e-02]    [3.91e-03, 1.96e-02, 1.57e-02, 2.63e-03, 6.58e-03, 2.43e-02]    []  \n",
      "1300      [6.46e-03, 2.04e-02, 1.11e-02, 1.99e-03, 6.20e-03, 1.92e-02]    [3.59e-03, 2.04e-02, 1.11e-02, 1.99e-03, 6.20e-03, 1.92e-02]    []  \n",
      "1400      [6.01e-03, 1.86e-02, 1.05e-02, 1.58e-03, 6.02e-03, 1.82e-02]    [3.29e-03, 1.86e-02, 1.05e-02, 1.58e-03, 6.02e-03, 1.82e-02]    []  \n",
      "1500      [5.63e-03, 1.67e-02, 1.05e-02, 1.74e-03, 5.55e-03, 1.86e-02]    [3.01e-03, 1.67e-02, 1.05e-02, 1.74e-03, 5.55e-03, 1.86e-02]    []  \n",
      "1600      [5.36e-03, 1.67e-02, 9.68e-03, 1.15e-03, 5.51e-03, 1.60e-02]    [2.79e-03, 1.67e-02, 9.68e-03, 1.15e-03, 5.51e-03, 1.60e-02]    []  \n",
      "1700      [5.13e-03, 1.57e-02, 9.37e-03, 1.03e-03, 5.37e-03, 1.50e-02]    [2.60e-03, 1.57e-02, 9.37e-03, 1.03e-03, 5.37e-03, 1.50e-02]    []  \n",
      "1800      [4.92e-03, 1.49e-02, 9.17e-03, 9.52e-04, 5.21e-03, 1.39e-02]    [2.40e-03, 1.49e-02, 9.17e-03, 9.52e-04, 5.21e-03, 1.39e-02]    []  \n",
      "1900      [4.78e-03, 1.40e-02, 8.91e-03, 9.09e-04, 5.16e-03, 1.30e-02]    [2.27e-03, 1.40e-02, 8.91e-03, 9.09e-04, 5.16e-03, 1.30e-02]    []  \n",
      "2000      [4.64e-03, 1.32e-02, 8.68e-03, 9.24e-04, 5.10e-03, 1.22e-02]    [2.15e-03, 1.32e-02, 8.68e-03, 9.24e-04, 5.10e-03, 1.22e-02]    []  \n",
      "2100      [4.44e-03, 1.26e-02, 8.40e-03, 9.59e-04, 4.99e-03, 1.15e-02]    [1.99e-03, 1.26e-02, 8.40e-03, 9.59e-04, 4.99e-03, 1.15e-02]    []  \n",
      "2200      [4.19e-03, 1.14e-02, 8.88e-03, 8.78e-04, 5.46e-03, 1.43e-02]    [1.86e-03, 1.14e-02, 8.88e-03, 8.78e-04, 5.46e-03, 1.43e-02]    []  \n",
      "2300      [3.94e-03, 1.14e-02, 7.87e-03, 9.66e-04, 4.82e-03, 1.03e-02]    [1.64e-03, 1.14e-02, 7.87e-03, 9.66e-04, 4.82e-03, 1.03e-02]    []  \n",
      "2400      [3.73e-03, 1.09e-02, 7.58e-03, 9.34e-04, 4.72e-03, 9.78e-03]    [1.52e-03, 1.09e-02, 7.58e-03, 9.34e-04, 4.72e-03, 9.78e-03]    []  \n",
      "2500      [3.66e-03, 1.06e-02, 7.28e-03, 8.66e-04, 4.60e-03, 9.26e-03]    [1.51e-03, 1.06e-02, 7.28e-03, 8.66e-04, 4.60e-03, 9.26e-03]    []  \n",
      "2600      [3.43e-03, 1.00e-02, 7.11e-03, 8.34e-04, 4.53e-03, 8.90e-03]    [1.42e-03, 1.00e-02, 7.11e-03, 8.34e-04, 4.53e-03, 8.90e-03]    []  \n",
      "2700      [3.33e-03, 9.79e-03, 7.07e-03, 8.24e-04, 4.45e-03, 8.36e-03]    [1.45e-03, 9.79e-03, 7.07e-03, 8.24e-04, 4.45e-03, 8.36e-03]    []  \n",
      "2800      [3.28e-03, 9.31e-03, 6.79e-03, 7.59e-04, 4.34e-03, 8.16e-03]    [1.43e-03, 9.31e-03, 6.79e-03, 7.59e-04, 4.34e-03, 8.16e-03]    []  \n",
      "2900      [3.31e-03, 9.06e-03, 6.60e-03, 7.24e-04, 4.26e-03, 7.86e-03]    [1.49e-03, 9.06e-03, 6.60e-03, 7.24e-04, 4.26e-03, 7.86e-03]    []  \n",
      "3000      [3.22e-03, 8.83e-03, 6.51e-03, 6.95e-04, 4.23e-03, 7.53e-03]    [1.47e-03, 8.83e-03, 6.51e-03, 6.95e-04, 4.23e-03, 7.53e-03]    []  \n",
      "\n",
      "Best model at step 3000:\n",
      "  train loss: 3.10e-02\n",
      "  test loss: 2.93e-02\n",
      "  test metric: []\n",
      "\n",
      "'train' took 27.948122 s\n",
      "\n",
      "Saving loss history to /home/lihaoyang/Code/SGA-PDE/codes/heat/loss.dat ...\n",
      "Saving training data to /home/lihaoyang/Code/SGA-PDE/codes/heat/train.dat ...\n",
      "Saving test data to /home/lihaoyang/Code/SGA-PDE/codes/heat/test.dat ...\n"
     ]
    },
    {
     "data": {
      "image/png": "[encoded data removed]",
      "text/plain": [
       "<Figure size 640x480 with 1 Axes>"
      ]
     },
     "metadata": {},
     "output_type": "display_data"
    },
    {
     "data": {
      "text/plain": [
       "'deepxde4_model-3000.pt'"
      ]
     },
     "execution_count": 2,
     "metadata": {},
     "output_type": "execute_result"
    }
   ],
   "source": [
    "losshistory, train_state = model.train(iterations=3000, display_every=100)\n",
    "\n",
    "# Plot/print the results\n",
    "dde.saveplot(losshistory, train_state, issave=True, isplot=True)\n",
    "\n",
    "# save the model\n",
    "model.save('deepxde_model')"
   ]
  },
  {
   "cell_type": "code",
   "execution_count": 9,
   "metadata": {},
   "outputs": [
    {
     "name": "stdout",
     "output_type": "stream",
     "text": [
      "(10000, 3) (10000, 1)\n",
      "(10000, 4, 21) (10000, 4)\n"
     ]
    }
   ],
   "source": [
    "model.restore('deepxde_model-3000.pt', device=\"cpu\")\n",
    "\n",
    "# 所需输入: Lx0, Lx1, model\n",
    "x1 = np.linspace(start=-Lx0/2, stop=Lx0/2, num=100, endpoint=True).flatten() #(100,)\n",
    "x2 = np.linspace(start=-Lx1/2, stop=Lx1/2, num=100, endpoint=True).flatten() #(100,)\n",
    "XX1, XX2 = np.meshgrid(x1, x2)\n",
    "x_1 = XX1.flatten()\n",
    "x_2 = XX2.flatten()\n",
    "\n",
    "# Lt = 1\n",
    "Nt = int(20 * Lt)\n",
    "\n",
    "dt = Lt / Nt\n",
    "for n in range(0, Nt+1):\n",
    "    t = n * dt\n",
    "    t_list = t*np.ones((len(x_1), 1))\n",
    "    x_pred = np.concatenate([x_1[:, None], x_2[:, None], t_list], axis=1)\n",
    "    y_pred = model.predict(x_pred)\n",
    "    y_p = y_pred.flatten()\n",
    "    data_n = np.concatenate([x_pred, y_pred], axis=1)\n",
    "    if n == 0:\n",
    "        data = data_n[:, :, None]\n",
    "    else:\n",
    "        data = np.concatenate([data, data_n[:, :, None]], axis=2)\n",
    "\n",
    "print(x_pred.shape, y_pred.shape)\n",
    "print(data.shape, data_n.shape)"
   ]
  },
  {
   "cell_type": "code",
   "execution_count": 4,
   "metadata": {},
   "outputs": [
    {
     "name": "stdout",
     "output_type": "stream",
     "text": [
      "保存路径: 2DtransientRectTC4\n",
      "y_min =  -0.15717828273773193 , y_max =  1.2390844821929932\n",
      "data.shape[2] =  21\n",
      "(10000,) (10000,) (10000,)\n",
      "0 (10000,) (10000,) (10000,)\n",
      "1 (10000,) (10000,) (10000,)\n",
      "2 (10000,) (10000,) (10000,)\n",
      "3 (10000,) (10000,) (10000,)\n",
      "4 (10000,) (10000,) (10000,)\n",
      "5 (10000,) (10000,) (10000,)\n",
      "6 (10000,) (10000,) (10000,)\n",
      "7 (10000,) (10000,) (10000,)\n",
      "8 (10000,) (10000,) (10000,)\n",
      "9 (10000,) (10000,) (10000,)\n",
      "10 (10000,) (10000,) (10000,)\n",
      "11 (10000,) (10000,) (10000,)\n",
      "12 (10000,) (10000,) (10000,)\n",
      "13 (10000,) (10000,) (10000,)\n",
      "14 (10000,) (10000,) (10000,)\n",
      "15 (10000,) (10000,) (10000,)\n",
      "16 (10000,) (10000,) (10000,)\n",
      "17 (10000,) (10000,) (10000,)\n",
      "18 (10000,) (10000,) (10000,)\n",
      "19 (10000,) (10000,) (10000,)\n",
      "20 (10000,) (10000,) (10000,)\n",
      "(10000,) (10000,) (10000,)\n"
     ]
    },
    {
     "data": {
      "image/png": "[encoded data removed]",
      "text/plain": [
       "<Figure size 1500x1500 with 2 Axes>"
      ]
     },
     "metadata": {},
     "output_type": "display_data"
    }
   ],
   "source": [
    "# 所需输入: data, dt, Nt\n",
    "from matplotlib.animation import FuncAnimation\n",
    "import os\n",
    "work_path = os.path.join('2Dallencahn',)\n",
    "isCreated = os.path.exists(work_path)\n",
    "if not isCreated:\n",
    "    os.makedirs(work_path)\n",
    "print(\"保存路径: \" + work_path)\n",
    "\n",
    "# 获得y的最大值和最小值\n",
    "y_min = data.min(axis=(0,2,))[3]\n",
    "y_max = data.max(axis=(0,2,))[3]\n",
    "print(\"y_min = \", y_min, \", y_max = \", y_max)\n",
    "\n",
    "# 设置colorbar显示的级别\n",
    "levels = np.arange(y_min, y_max+(y_max-y_min)/30, (y_max-y_min)/30)\n",
    "\n",
    "fig = plt.figure(100, figsize=(15, 15))\n",
    "\n",
    "def init():\n",
    "    plt.clf()\n",
    "    x1_t, x2_t = data[:, 0:1, 0], data[:, 1:2, 0]\n",
    "    y_p_t = 0 * np.ones((len(x1_t), 1))\n",
    "    x1_t, x2_t, y_p_t = x1_t.flatten(), x2_t.flatten(), y_p_t.flatten()\n",
    "    print(x1_t.shape, x1_t.shape, y_p_t.shape)\n",
    "\n",
    "    plt.subplot(1,1,1)\n",
    "    plt.tricontourf(x1_t, x2_t, y_p_t, levels=30, cmap=\"rainbow\")\n",
    "    plt.clim(vmin=y_min, vmax=y_max)\n",
    "    cb0 = plt.colorbar()\n",
    "    plt.title(\"Temperature field with BCs/IC.\", fontsize = 9.5)\n",
    "    plt.savefig(work_path + '//' + 'animation_BCsIC' + '.jpg')\n",
    "\n",
    "def anim_update(t_id):\n",
    "    plt.clf()\n",
    "    x1_t, x2_t, y_p_t = data[:, 0:1, t_id], data[:, 1:2, t_id], data[:, 3:4, t_id]\n",
    "    x1_t, x2_t, y_p_t = x1_t.flatten(), x2_t.flatten(), y_p_t.flatten()\n",
    "    print(t_id, x1_t.shape, x1_t.shape, y_p_t.shape)\n",
    "    \n",
    "    plt.subplot(1,1,1)\n",
    "    plt.tricontourf(x1_t, x2_t, y_p_t, levels=30, cmap=\"rainbow\")\n",
    "    plt.clim(vmin=y_min, vmax=y_max)\n",
    "    cb0 = plt.colorbar()\n",
    "    # plt.rcParams['font.family'] = 'Times New Roman'\n",
    "    # plt.rcParams['font.size'] = 9.5\n",
    "    plt.xlabel('$x (m)$')\n",
    "    plt.ylabel('$y (m)$')\n",
    "    plt.title(\"Temperature field at t = \" + str(t_id * dt) + \" s.\", fontsize = 9.5)\n",
    "    plt.savefig(work_path + '//' + 'animation_' + str(t_id) + '.jpg')\n",
    "\n",
    "print(\"data.shape[2] = \", data.shape[2])\n",
    "\n",
    "# anim_update(10)\n",
    "# init()\n",
    "anim =FuncAnimation(fig, anim_update, frames=np.arange(0, data.shape[2]).astype(np.int64), interval=200, init_func=init)\n",
    "# anim =FuncAnimation(fig, anim_update, frames=np.arange(0, data.shape[2]).astype(np.int64), interval=200)\n",
    "anim.save(work_path + \"//\" + \"animation-\" + str(Nt+1) + \".gif\", writer=\"pillow\", dpi=300)"
   ]
  },
  {
   "cell_type": "code",
   "execution_count": 10,
   "metadata": {},
   "outputs": [],
   "source": [
    "y_p_t = data[:, 3:4, ]\n",
    "u = y_p_t[:, 0, :]\n",
    "np.save('../../data/allencahn_xyt', u.reshape((100, 100, -1)))\n",
    "np.save('../../data/allencahn_x', x1)\n",
    "np.save('../../data/allencahn_y', x2)\n",
    "# np.save('../../data/heat_t', data[:, 2:3, ][0, 0, :])  # heat_t不变，还是21个时间步，不用再存一遍"
   ]
  },
  {
   "cell_type": "code",
   "execution_count": 11,
   "metadata": {},
   "outputs": [],
   "source": [
    "def load_ref_data(ref_data, timepde=None):  # if pde is a timepde, then provide timepde=(t_start, t_end)\n",
    "    \n",
    "    d = (3, 1)  # Hardcoding the value of d\n",
    "\n",
    "    if timepde is not None:  # transform ref_data\n",
    "        time_starts, time_ends = timepde\n",
    "        data = ref_data\n",
    "        num_tsample = (data.shape[1] - (d[0] - 1)) // d[1]\n",
    "        assert num_tsample * d[1] == data.shape[1] - (d[0] - 1)\n",
    "        t = np.linspace(time_starts, time_ends, num_tsample)\n",
    "        t, x0 = np.meshgrid(t, data[:, 0])  # add the first input dimension that is not time\n",
    "        list_x = [x0.reshape(-1)]  # x0.reshape(-1) gives [e1,e1,...,e1, e2,e2,...,e2, ...] each element repeats num_tsample times (adjacent)\n",
    "        for i in range(1, d[0] - 1):  # add other input dimensions that is not time\n",
    "            list_x.append(np.stack([data[:, i] for _ in range(num_tsample)]).T.reshape(-1))  # each element repeats num_tsample times (adjacent)\n",
    "        list_x.append(t.reshape(-1))  # t is the last input dimension. (Other) input dimension order should be in accordance with .dat file\n",
    "        for i in range(d[1]):\n",
    "            list_x.append(data[:, d[0] - 1 + i::d[1]].reshape(-1))\n",
    "        ref_data = np.stack(list_x).T\n",
    "\n",
    "    ref_x = ref_data[:, :d[0]]\n",
    "    ref_y = ref_data[:, d[0]:]\n",
    "\n",
    "    return ref_x, ref_y"
   ]
  },
  {
   "cell_type": "code",
   "execution_count": 12,
   "metadata": {},
   "outputs": [],
   "source": [
    "coordinate = np.concatenate((x_1[:, None], x_2[:, None]), axis=-1)\n",
    "ref_data = np.concatenate((coordinate, u), axis=-1)\n",
    "out_x, out_y = load_ref_data(ref_data=ref_data, timepde=(0,1))\n",
    "np.save('../../data/allencahn_in', out_x)\n",
    "np.save('../../data/allencahn_out', out_y)"
   ]
  },
  {
   "cell_type": "code",
   "execution_count": 13,
   "metadata": {},
   "outputs": [
    {
     "data": {
      "text/plain": [
       "(tensor([[6.8704],\n",
       "         [4.3663],\n",
       "         [2.2918],\n",
       "         ...,\n",
       "         [0.2389],\n",
       "         [0.2511],\n",
       "         [0.2639]], dtype=torch.float64, grad_fn=<SliceBackward0>),\n",
       " tensor([[-2.9037],\n",
       "         [-2.7222],\n",
       "         [-2.2595],\n",
       "         ...,\n",
       "         [-0.7053],\n",
       "         [-0.7243],\n",
       "         [-0.7409]], dtype=torch.float64, grad_fn=<SliceBackward0>),\n",
       " tensor([[-1.0599],\n",
       "         [-1.0344],\n",
       "         [-1.0066],\n",
       "         ...,\n",
       "         [ 1.0060],\n",
       "         [ 1.0060],\n",
       "         [ 1.0065]], dtype=torch.float64, grad_fn=<SliceBackward0>),\n",
       " tensor([[ 9.0908],\n",
       "         [ 4.9758],\n",
       "         [ 2.0136],\n",
       "         ...,\n",
       "         [-0.5173],\n",
       "         [-0.5234],\n",
       "         [-0.5290]], dtype=torch.float64, grad_fn=<SliceBackward0>),\n",
       " tensor([[2.9901],\n",
       "         [3.0757],\n",
       "         [3.1067],\n",
       "         ...,\n",
       "         [1.1841],\n",
       "         [1.1550],\n",
       "         [1.1289]], dtype=torch.float64, grad_fn=<SliceBackward0>),\n",
       " torch.Size([210000, 1]))"
      ]
     },
     "execution_count": 13,
     "metadata": {},
     "output_type": "execute_result"
    }
   ],
   "source": [
    "net_input = np.load('../../data/allencahn_in.npy')  # (210000,3)\n",
    "net_input_grad = torch.from_numpy(net_input).requires_grad_()\n",
    "net_output_grad = model.net(net_input_grad.float())\n",
    "\n",
    "def cal_grad(x, y):\n",
    "    ut = dde.grad.jacobian(y, x, i=0, j=2)\n",
    "    ux = dde.grad.jacobian(y, x, i=0, j=0)\n",
    "    uy = dde.grad.jacobian(y, x, i=0, j=1)\n",
    "    uxx = dde.grad.hessian(y, x, i=0, j=0)\n",
    "    uyy = dde.grad.hessian(y, x, i=1, j=1)\n",
    "    return ut, ux, uy, uxx, uyy\n",
    "\n",
    "ut, ux, uy, uxx, uyy = cal_grad(net_input_grad, net_output_grad)\n",
    "ut, ux, uy, uxx, uyy, ut.shape"
   ]
  },
  {
   "cell_type": "code",
   "execution_count": 14,
   "metadata": {},
   "outputs": [],
   "source": [
    "np.save('../../data/allencahn_ut', ut.detach().numpy())  # (210000,1)\n",
    "np.save('../../data/allencahn_ux', ux.detach().numpy())  # (210000,1)\n",
    "np.save('../../data/allencahn_uy', uy.detach().numpy())  # (210000,1)\n",
    "np.save('../../data/allencahn_uxx', uxx.detach().numpy())  # (210000,1)\n",
    "np.save('../../data/allencahn_uyy', uyy.detach().numpy())  # (210000,1)"
   ]
  },
  {
   "cell_type": "code",
   "execution_count": 15,
   "metadata": {},
   "outputs": [
    {
     "name": "stdout",
     "output_type": "stream",
     "text": [
      "heat_xyt_less_initup1down1 (100, 100, 21)\n",
      "heat_x_less_initup1down1 (100,)\n",
      "heat_y_less_initup1down1 (100,)\n",
      "heat_t (21,)\n",
      "heat_in_less_initup1down1 (210000, 3)\n",
      "heat_out_less_initup1down1 (210000, 1)\n",
      "heat_ut_less_initup1down1 (210000, 1)\n",
      "heat_ux_less_initup1down1 (210000, 1)\n",
      "heat_uy_less_initup1down1 (210000, 1)\n",
      "heat_uxx_less_initup1down1 (210000, 1)\n",
      "heat_uyy_less_initup1down1 (210000, 1)\n"
     ]
    }
   ],
   "source": [
    "data_npy = ['allencahn_xyt', 'allencahn_x', 'allencahn_y', 'allencahn_t', 'allencahn_in', 'allencahn_out', 'allencahn_ut', 'allencahn_ux', 'allencahn_uy', 'allencahn_uxx', 'allencahn_uyy']\n",
    "for npy in data_npy:\n",
    "    print(npy, np.load('../../data/' + npy + '.npy').shape)"
   ]
  }
 ],
 "metadata": {
  "kernelspec": {
   "display_name": "SRNet",
   "language": "python",
   "name": "python3"
  },
  "language_info": {
   "codemirror_mode": {
    "name": "ipython",
    "version": 3
   },
   "file_extension": ".py",
   "mimetype": "text/x-python",
   "name": "python",
   "nbconvert_exporter": "python",
   "pygments_lexer": "ipython3",
   "version": "3.11.9"
  }
 },
 "nbformat": 4,
 "nbformat_minor": 2
}
