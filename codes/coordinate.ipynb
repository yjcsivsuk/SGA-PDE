{
 "cells": [
  {
   "cell_type": "code",
   "execution_count": 1,
   "metadata": {},
   "outputs": [],
   "source": [
    "import numpy as np"
   ]
  },
  {
   "cell_type": "code",
   "execution_count": 2,
   "metadata": {},
   "outputs": [
    {
     "data": {
      "text/plain": [
       "(array([-1. , -0.5,  0. ,  0.5,  1. ]),\n",
       " array([-1. , -0.5,  0. ,  0.5,  1. ]),\n",
       " (5,),\n",
       " (5,))"
      ]
     },
     "execution_count": 2,
     "metadata": {},
     "output_type": "execute_result"
    }
   ],
   "source": [
    "x = np.linspace(-1, 1, 5)\n",
    "y = np.linspace(-1, 1, 5)\n",
    "x, y, x.shape, y.shape"
   ]
  },
  {
   "cell_type": "code",
   "execution_count": 3,
   "metadata": {},
   "outputs": [
    {
     "data": {
      "text/plain": [
       "(array([[-1. , -0.5,  0. ,  0.5,  1. ],\n",
       "        [-1. , -0.5,  0. ,  0.5,  1. ],\n",
       "        [-1. , -0.5,  0. ,  0.5,  1. ],\n",
       "        [-1. , -0.5,  0. ,  0.5,  1. ],\n",
       "        [-1. , -0.5,  0. ,  0.5,  1. ]]),\n",
       " array([[-1. , -1. , -1. , -1. , -1. ],\n",
       "        [-0.5, -0.5, -0.5, -0.5, -0.5],\n",
       "        [ 0. ,  0. ,  0. ,  0. ,  0. ],\n",
       "        [ 0.5,  0.5,  0.5,  0.5,  0.5],\n",
       "        [ 1. ,  1. ,  1. ,  1. ,  1. ]]),\n",
       " (5, 5),\n",
       " (5, 5))"
      ]
     },
     "execution_count": 3,
     "metadata": {},
     "output_type": "execute_result"
    }
   ],
   "source": [
    "xx, yy = np.meshgrid(x, y)\n",
    "xx, yy, xx.shape, yy.shape"
   ]
  },
  {
   "cell_type": "code",
   "execution_count": 4,
   "metadata": {},
   "outputs": [
    {
     "data": {
      "text/plain": [
       "(array([-1. , -0.5,  0. ,  0.5,  1. , -1. , -0.5,  0. ,  0.5,  1. , -1. ,\n",
       "        -0.5,  0. ,  0.5,  1. , -1. , -0.5,  0. ,  0.5,  1. , -1. , -0.5,\n",
       "         0. ,  0.5,  1. ]),\n",
       " array([-1. , -1. , -1. , -1. , -1. , -0.5, -0.5, -0.5, -0.5, -0.5,  0. ,\n",
       "         0. ,  0. ,  0. ,  0. ,  0.5,  0.5,  0.5,  0.5,  0.5,  1. ,  1. ,\n",
       "         1. ,  1. ,  1. ]),\n",
       " (25,),\n",
       " (25,))"
      ]
     },
     "execution_count": 4,
     "metadata": {},
     "output_type": "execute_result"
    }
   ],
   "source": [
    "xx1 = xx.flatten()\n",
    "yy1 = yy.flatten()\n",
    "xx1, yy1, xx1.shape, yy1.shape"
   ]
  },
  {
   "cell_type": "code",
   "execution_count": 5,
   "metadata": {},
   "outputs": [
    {
     "data": {
      "text/plain": [
       "(array([[-1. , -1. ],\n",
       "        [-0.5, -1. ],\n",
       "        [ 0. , -1. ],\n",
       "        [ 0.5, -1. ],\n",
       "        [ 1. , -1. ],\n",
       "        [-1. , -0.5],\n",
       "        [-0.5, -0.5],\n",
       "        [ 0. , -0.5],\n",
       "        [ 0.5, -0.5],\n",
       "        [ 1. , -0.5],\n",
       "        [-1. ,  0. ],\n",
       "        [-0.5,  0. ],\n",
       "        [ 0. ,  0. ],\n",
       "        [ 0.5,  0. ],\n",
       "        [ 1. ,  0. ],\n",
       "        [-1. ,  0.5],\n",
       "        [-0.5,  0.5],\n",
       "        [ 0. ,  0.5],\n",
       "        [ 0.5,  0.5],\n",
       "        [ 1. ,  0.5],\n",
       "        [-1. ,  1. ],\n",
       "        [-0.5,  1. ],\n",
       "        [ 0. ,  1. ],\n",
       "        [ 0.5,  1. ],\n",
       "        [ 1. ,  1. ]]),\n",
       " (25, 2))"
      ]
     },
     "execution_count": 5,
     "metadata": {},
     "output_type": "execute_result"
    }
   ],
   "source": [
    "coordinate = np.concatenate((xx1[:, None], yy1[:, None]), axis=-1)\n",
    "coordinate, coordinate.shape"
   ]
  },
  {
   "cell_type": "code",
   "execution_count": 7,
   "metadata": {},
   "outputs": [
    {
     "data": {
      "text/plain": [
       "(array([[[-1. , -1. ],\n",
       "         [-0.5, -1. ],\n",
       "         [ 0. , -1. ],\n",
       "         [ 0.5, -1. ],\n",
       "         [ 1. , -1. ]],\n",
       " \n",
       "        [[-1. , -0.5],\n",
       "         [-0.5, -0.5],\n",
       "         [ 0. , -0.5],\n",
       "         [ 0.5, -0.5],\n",
       "         [ 1. , -0.5]],\n",
       " \n",
       "        [[-1. ,  0. ],\n",
       "         [-0.5,  0. ],\n",
       "         [ 0. ,  0. ],\n",
       "         [ 0.5,  0. ],\n",
       "         [ 1. ,  0. ]],\n",
       " \n",
       "        [[-1. ,  0.5],\n",
       "         [-0.5,  0.5],\n",
       "         [ 0. ,  0.5],\n",
       "         [ 0.5,  0.5],\n",
       "         [ 1. ,  0.5]],\n",
       " \n",
       "        [[-1. ,  1. ],\n",
       "         [-0.5,  1. ],\n",
       "         [ 0. ,  1. ],\n",
       "         [ 0.5,  1. ],\n",
       "         [ 1. ,  1. ]]]),\n",
       " (5, 5, 2))"
      ]
     },
     "execution_count": 7,
     "metadata": {},
     "output_type": "execute_result"
    }
   ],
   "source": [
    "# 不对，不应该这样做\n",
    "coordinate = coordinate.reshape(5, 5, -1)\n",
    "coordinate, coordinate.shape"
   ]
  }
 ],
 "metadata": {
  "kernelspec": {
   "display_name": "SGA-PDE",
   "language": "python",
   "name": "python3"
  },
  "language_info": {
   "codemirror_mode": {
    "name": "ipython",
    "version": 3
   },
   "file_extension": ".py",
   "mimetype": "text/x-python",
   "name": "python",
   "nbconvert_exporter": "python",
   "pygments_lexer": "ipython3",
   "version": "3.11.9"
  }
 },
 "nbformat": 4,
 "nbformat_minor": 2
}
